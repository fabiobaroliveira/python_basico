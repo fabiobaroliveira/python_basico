{
  "nbformat": 4,
  "nbformat_minor": 0,
  "metadata": {
    "colab": {
      "provenance": [],
      "authorship_tag": "ABX9TyOlUEYGWoQ3sRTEJj0sQ8Od",
      "include_colab_link": true
    },
    "kernelspec": {
      "name": "python3",
      "display_name": "Python 3"
    },
    "language_info": {
      "name": "python"
    }
  },
  "cells": [
    {
      "cell_type": "markdown",
      "metadata": {
        "id": "view-in-github",
        "colab_type": "text"
      },
      "source": [
        "<a href=\"https://colab.research.google.com/github/fabiobaroliveira/python_basico/blob/main/python_basico.ipynb\" target=\"_parent\"><img src=\"https://colab.research.google.com/assets/colab-badge.svg\" alt=\"Open In Colab\"/></a>"
      ]
    },
    {
      "cell_type": "code",
      "execution_count": null,
      "metadata": {
        "id": "EvmOQuLtxiMe"
      },
      "outputs": [],
      "source": [
        "# Leitura e Escrita de Dados\n",
        "\n",
        "\n",
        "# Lendo um arquivo CSV\n",
        "# sep=',' é o padrão, mas pode ser alterado para ';' ou outro delimitador. [3, 17]\n",
        "# header=0 significa que a primeira linha é o cabeçalho. [13]\n",
        "# encoding='utf-8' é importante para evitar problemas com caracteres especiais. [13]\n",
        "df_csv = pd.read_csv('seu_arquivo.csv', sep=',', header=0, encoding='utf-8')\n",
        "\n",
        "# Lendo um arquivo Excel\n",
        "# É necessário ter a biblioteca openpyxl instalada (pip install openpyxl). [16]\n",
        "# sheet_name=0 lê a primeira aba. Pode ser o nome da aba também, ex: 'Vendas'. [10, 19]\n",
        "df_excel = pd.read_excel('sua_planilha.xlsx', sheet_name='NomeDaAba')\n",
        "\n",
        "# Lendo múltiplas abas de uma planilha de uma vez\n",
        "# Retorna um dicionário onde as chaves são os nomes das abas e os valores são os DataFrames\n",
        "dict_de_dfs = pd.read_excel('sua_planilha.xlsx', sheet_name=None)\n",
        "df_aba1 = dict_de_dfs['Aba1']\n",
        "df_aba2 = dict_de_dfs['Aba2']\n"
      ]
    },
    {
      "cell_type": "code",
      "source": [
        "# Escrevendo Arquivos\n",
        "\n",
        "# Salvando um DataFrame em um arquivo CSV\n",
        "# index=False evita que o índice do DataFrame seja salvo como uma coluna no arquivo. [1, 8]\n",
        "df.to_csv('novo_arquivo.csv', index=False, sep=';', encoding='utf-8-sig')\n",
        "\n",
        "# Salvando um DataFrame em um arquivo Excel\n",
        "# Da mesma forma, index=False é geralmente recomendado. [9]\n",
        "df.to_excel('nova_planilha.xlsx', sheet_name='Resultados', index=False)\n",
        "\n",
        "# Salvando múltiplos DataFrames em abas diferentes de um mesmo arquivo Excel\n",
        "with pd.ExcelWriter('relatorio_completo.xlsx') as writer:\n",
        "    df_vendas.to_excel(writer, sheet_name='Vendas', index=False)\n",
        "    df_clientes.to_excel(writer, sheet_name='Clientes', index=False)\n",
        "\n"
      ],
      "metadata": {
        "id": "Ll9FT48MxzIT"
      },
      "execution_count": null,
      "outputs": []
    },
    {
      "cell_type": "code",
      "source": [
        "# Inspeção Inicial do DataFrame\n",
        "\n",
        "# Visualizar as 5 primeiras linhas\n",
        "print(df.head())\n",
        "\n",
        "# Visualizar as 5 últimas linhas\n",
        "print(df.tail())\n",
        "\n",
        "# Obter o número de linhas e colunas (formato: (linhas, colunas))\n",
        "print(df.shape)\n",
        "\n",
        "# Obter informações sobre as colunas, tipos de dados e valores não nulos\n",
        "print(df.info())\n",
        "\n",
        "# Obter estatísticas descritivas para colunas numéricas (média, desvio padrão, etc.)\n",
        "print(df.describe())\n",
        "\n",
        "# Listar os nomes das colunas\n",
        "print(df.columns)\n",
        "\n",
        "# Contar valores únicos em uma coluna específica (Series)\n",
        "print(df['nome_da_coluna'].value_counts())\n"
      ],
      "metadata": {
        "id": "VBMnyYvhx9Go"
      },
      "execution_count": null,
      "outputs": []
    },
    {
      "cell_type": "code",
      "source": [
        "# Seleção e Filtragem de Dados (Slicing)\n",
        "\n",
        "# Selecionar uma única coluna (retorna uma Series)\n",
        "coluna_a = df['nome_da_coluna']\n",
        "\n",
        "# Selecionar múltiplas colunas (retorna um novo DataFrame)\n",
        "novo_df = df[['coluna_1', 'coluna_2', 'coluna_3']]\n",
        "\n",
        "# Selecionar linhas por índice numérico (loc é baseado em rótulo, iloc em posição)\n",
        "# Linhas de índice 0 a 4\n",
        "primeiras_cinco_linhas = df.iloc[0:5]\n",
        "\n",
        "# Selecionar uma linha específica pelo seu rótulo de índice\n",
        "linha_especifica = df.loc['rotulo_do_indice']\n",
        "\n",
        "# Filtragem baseada em condições\n",
        "# Filtra o DataFrame para linhas onde o valor na 'coluna_x' é maior que 100\n",
        "df_filtrado = df[df['coluna_x'] > 100]\n",
        "\n",
        "# Múltiplas condições (& para 'E', | para 'OU')\n",
        "df_filtrado_complexo = df[(df['coluna_x'] > 100) & (df['coluna_y'] == 'Categoria A')]\n",
        "\n",
        "# Filtrar usando o método .query() (alternativa mais legível)\n",
        "df_query = df.query('coluna_x > 100 and coluna_y == \"Categoria A\"')\n"
      ],
      "metadata": {
        "id": "n2g_-fzIyCfB"
      },
      "execution_count": null,
      "outputs": []
    },
    {
      "cell_type": "code",
      "source": [
        "# Manipulação e Limpeza de Dados\n",
        "\n",
        "# Criar uma nova coluna\n",
        "df['nova_coluna'] = df['coluna_existente_1'] * df['coluna_existente_2']\n",
        "\n",
        "# Aplicar uma função a uma coluna\n",
        "def minha_funcao(valor):\n",
        "    return valor * 2\n",
        "df['coluna_transformada'] = df['coluna_original'].apply(minha_funcao)\n",
        "\n",
        "# Renomear colunas\n",
        "df = df.rename(columns={'nome_antigo': 'nome_novo', 'outro_nome_antigo': 'outro_nome_novo'})\n",
        "\n",
        "# Remover colunas\n",
        "# axis=1 indica que estamos removendo uma coluna, não uma linha\n",
        "df = df.drop('coluna_para_remover', axis=1)\n",
        "\n",
        "# Lidar com valores ausentes (NaN)\n",
        "# Verificar valores ausentes\n",
        "print(df.isnull().sum())\n",
        "\n",
        "# Remover linhas com qualquer valor ausente\n",
        "df_sem_na = df.dropna()\n",
        "\n",
        "# Preencher valores ausentes com um valor específico (ex: 0 ou a média)\n",
        "df_preenchido = df.fillna(0)\n",
        "media_coluna = df['coluna_com_na'].mean()\n",
        "df['coluna_com_na'] = df['coluna_com_na'].fillna(media_coluna)\n"
      ],
      "metadata": {
        "id": "tKM1oSVbyIH0"
      },
      "execution_count": null,
      "outputs": []
    },
    {
      "cell_type": "code",
      "source": [
        "# Tratamento de Strings (Textos)\n",
        "\n",
        "# Exemplo de DataFrame\n",
        "data = {'produto': ['  Produto A  ', 'produto b', 'PRODUTO C', 'Produto D (novo)', 'Produto E - 110V'],\n",
        "        'codigo': ['SKU-001', 'sku-002', 'SKU-003', 'sku-004', 'SKU-005']}\n",
        "df_texto = pd.DataFrame(data)"
      ],
      "metadata": {
        "id": "mwZo9YKyyzBV"
      },
      "execution_count": null,
      "outputs": []
    },
    {
      "cell_type": "code",
      "source": [
        "# Limpeza e Padronização\n",
        "\n",
        "# Converter para minúsculas\n",
        "df_texto['produto_lower'] = df_texto['produto'].str.lower()\n",
        "\n",
        "# Converter para maiúsculas\n",
        "df_texto['produto_upper'] = df_texto['produto'].str.upper()\n",
        "\n",
        "# Remover espaços em branco no início e no fim\n",
        "df_texto['produto_stripped'] = df_texto['produto'].str.strip()\n",
        "\n",
        "# Remover apenas espaços à esquerda (lstrip) ou à direita (rstrip)\n",
        "df_texto['produto_lstrip'] = df_texto['produto'].str.lstrip()\n",
        "df_texto['produto_rstrip'] = df_texto['produto'].str.rstrip()"
      ],
      "metadata": {
        "id": "e3PTE0nBzB6v"
      },
      "execution_count": null,
      "outputs": []
    },
    {
      "cell_type": "code",
      "source": [
        "# Substituição (Replace)\n",
        "\n",
        "# Substituir uma substring por outra\n",
        "# Útil para corrigir erros de digitação ou padronizar termos\n",
        "df_texto['codigo_padronizado'] = df_texto['codigo'].str.replace('sku-', 'SKU-')\n",
        "\n",
        "# A substituição também pode usar expressões regulares (regex)\n",
        "# Exemplo: remover todos os dígitos de uma string\n",
        "df_texto['produto_sem_numeros'] = df_texto['produto'].str.replace(r'\\d+', '', regex=True)\n"
      ],
      "metadata": {
        "id": "Mfp4BHM3zFQn"
      },
      "execution_count": null,
      "outputs": []
    },
    {
      "cell_type": "code",
      "source": [
        "# Extração e Verificação de Padrões\n",
        "\n",
        "# Verificar se a string contém uma substring\n",
        "# Retorna uma série de True/False, útil para filtros\n",
        "contem_produto = df_texto['produto'].str.contains('Produto', case=False) # case=False ignora maiúsculas/minúsculas\n",
        "print(df_texto[contem_produto])\n",
        "\n",
        "# Verificar se a string começa com um padrão\n",
        "comeca_com_sku = df_texto['codigo'].str.startswith('SKU')\n",
        "\n",
        "# Verificar se a string termina com um padrão\n",
        "termina_com_v = df_texto['produto'].str.endswith('V')\n",
        "\n",
        "# Extrair partes de uma string usando expressões regulares (regex)\n",
        "# Exemplo: extrair o que está dentro dos parênteses\n",
        "df_texto['detalhe'] = df_texto['produto'].str.extract(r'\\((.*?)\\)')\n",
        "# Resultado para 'Produto D (novo)' -> 'novo'\n"
      ],
      "metadata": {
        "id": "81yyCnaVzJ0r"
      },
      "execution_count": null,
      "outputs": []
    },
    {
      "cell_type": "code",
      "source": [
        "# Divisão de Strings (Split)\n",
        "\n",
        "# Dividir uma string em uma lista com base em um delimitador\n",
        "# Exemplo: separar 'Produto E - 110V' em 'Produto E' e '110V'\n",
        "split_produto = df_texto['produto'].str.split(' - ')\n",
        "print(split_produto)\n",
        "# O resultado é uma Series de listas: [['  Produto A  '], ['produto b'], ..., ['Produto E', '110V']]\n",
        "\n",
        "# Para expandir a lista em novas colunas, use expand=True\n",
        "df_produto_split = df_texto['produto'].str.split(' - ', expand=True)\n",
        "df_produto_split.columns = ['nome_base', 'especificacao'] # Renomeia as novas colunas\n",
        "print(df_produto_split)\n",
        "\n",
        "# Você pode então juntar essas novas colunas ao DataFrame original\n",
        "df_final = pd.concat([df_texto, df_produto_split], axis=1)\n"
      ],
      "metadata": {
        "id": "bL0riyFWzPJ5"
      },
      "execution_count": null,
      "outputs": []
    },
    {
      "cell_type": "code",
      "source": [
        "# Outras Funções Úteis\n",
        "\n",
        "# Obter o comprimento de cada string\n",
        "df_texto['tamanho_produto'] = df_texto['produto'].str.len()\n",
        "\n",
        "# Acessar um caractere por posição (slicing)\n",
        "# Pega os 3 primeiros caracteres da coluna 'codigo'\n",
        "df_texto['prefixo_codigo'] = df_texto['codigo'].str[:3]\n"
      ],
      "metadata": {
        "id": "SVei_vP0zg9H"
      },
      "execution_count": 4,
      "outputs": []
    },
    {
      "cell_type": "code",
      "source": [
        "# Agrupamento e Agregação (Group By)\n",
        "\n",
        "# Agrupar por uma coluna e calcular a média de outras\n",
        "media_por_categoria = df.groupby('coluna_categoria')['coluna_valor'].mean()\n",
        "\n",
        "# Agrupar por múltiplas colunas e aplicar várias funções de agregação\n",
        "agregado = df.groupby(['categoria_1', 'categoria_2']).agg(\n",
        "    soma_valor=('coluna_valor', 'sum'),\n",
        "    media_quantidade=('coluna_quantidade', 'mean'),\n",
        "    contagem_eventos=('id_evento', 'count')\n",
        ").reset_index() # .reset_index() transforma o resultado agrupado de volta em um DataFrame\n",
        "\n",
        "print(agregado)\n"
      ],
      "metadata": {
        "id": "gSbsmGnqyMW8"
      },
      "execution_count": null,
      "outputs": []
    },
    {
      "cell_type": "code",
      "source": [
        "# Cruzamento de Dados (Merge e Join)\n",
        "\n",
        "# Suponha que temos df1 e df2\n",
        "# Merge (similar ao JOIN do SQL)\n",
        "# 'inner': retorna apenas as linhas onde a chave de junção existe em ambos os DataFrames\n",
        "df_merged = pd.merge(df1, df2, on='coluna_em_comum', how='inner')\n",
        "\n",
        "# 'left': retorna todas as linhas de df1 e as correspondentes de df2\n",
        "df_left_join = pd.merge(df1, df2, on='coluna_em_comum', how='left')\n",
        "\n",
        "# 'outer': retorna todas as linhas de ambos os DataFrames\n",
        "df_outer_join = pd.merge(df1, df2, on='coluna_em_comum', how='outer')\n",
        "\n"
      ],
      "metadata": {
        "id": "vZD_0EORySiI"
      },
      "execution_count": 1,
      "outputs": []
    },
    {
      "cell_type": "code",
      "source": [
        "# Análise de Correlação\n",
        "\n",
        "# Calcular a matriz de correlação entre todas as colunas numéricas\n",
        "matriz_correlacao = df.corr(numeric_only=True)\n",
        "\n",
        "print(matriz_correlacao)\n",
        "\n",
        "# Para visualizar melhor, pode-se usar um mapa de calor (heatmap) com a biblioteca Seaborn\n",
        "# import seaborn as sns\n",
        "# import matplotlib.pyplot as plt\n",
        "# sns.heatmap(matriz_correlacao, annot=True, cmap='coolwarm')\n",
        "# plt.show()\n"
      ],
      "metadata": {
        "id": "xLyKaOalyTmb"
      },
      "execution_count": null,
      "outputs": []
    },
    {
      "cell_type": "code",
      "source": [
        "# Convertendo Colunas para o Tipo datetime\n",
        "\n",
        "# Suponha um DataFrame com uma coluna 'data_pedido' como string\n",
        "df['data_pedido'] = pd.to_datetime(df['data_pedido'])\n",
        "\n",
        "# Se o formato da data não for o padrão (YYYY-MM-DD), você pode especificar o formato\n",
        "# Exemplo para datas no formato brasileiro 'DD/MM/YYYY'\n",
        "df['data_venda'] = pd.to_datetime(df['data_venda'], format='%d/%m/%Y')\n",
        "\n",
        "# Em caso de erros na conversão, você pode forçá-los a se tornarem NaT (Not a Time)\n",
        "df['data_evento'] = pd.to_datetime(df['data_evento'], errors='coerce')\n",
        "# 'coerce' é útil para identificar e tratar datas mal formatadas.\n"
      ],
      "metadata": {
        "id": "vxdOh16Rytqi"
      },
      "execution_count": null,
      "outputs": []
    },
    {
      "cell_type": "code",
      "source": [
        "# Extraindo Componentes de Datas com o Acessador .dt\n",
        "\n",
        "# Certifique-se que a coluna é do tipo datetime\n",
        "df['data'] = pd.to_datetime(df['data'])\n",
        "\n",
        "# Extraindo componentes\n",
        "df['ano'] = df['data'].dt.year\n",
        "df['mes'] = df['data'].dt.month\n",
        "df['dia'] = df['data'].dt.day\n",
        "df['dia_da_semana'] = df['data'].dt.dayofweek  # Segunda=0, Domingo=6\n",
        "df['nome_dia_semana'] = df['data'].dt.day_name() # Retorna o nome do dia (ex: 'Monday')\n",
        "df['semana_do_ano'] = df['data'].dt.isocalendar().week\n",
        "df['trimestre'] = df['data'].dt.quarter\n",
        "\n",
        "# Formatar a data de volta para uma string em um formato específico\n",
        "df['data_formatada'] = df['data'].dt.strftime('%d-%m-%Y') # Formato DD-MM-YYYY\n"
      ],
      "metadata": {
        "id": "7jJbguSgz43q"
      },
      "execution_count": null,
      "outputs": []
    },
    {
      "cell_type": "code",
      "source": [
        "# Filtrando por Datas\n",
        "\n",
        "# Definindo a coluna de data como o índice do DataFrame (muito comum em séries temporais)\n",
        "df_temporal = df.set_index('data')\n",
        "\n",
        "# Filtrar por um ano específico\n",
        "vendas_2023 = df_temporal['2023']\n",
        "\n",
        "# Filtrar por um mês específico de um ano\n",
        "vendas_junho_2023 = df_temporal['2023-06']\n",
        "\n",
        "# Filtrar por um intervalo de datas (slice)\n",
        "vendas_q1_2024 = df_temporal['2024-01-01':'2024-03-31']\n",
        "\n",
        "# Também funciona sem definir a data como índice\n",
        "data_inicio = pd.to_datetime('2024-01-01')\n",
        "data_fim = pd.to_datetime('2024-03-31')\n",
        "df_filtrado = df[(df['data'] >= data_inicio) & (df['data'] <= data_fim)]\n"
      ],
      "metadata": {
        "id": "eMPTHiiEz-Gw"
      },
      "execution_count": null,
      "outputs": []
    },
    {
      "cell_type": "code",
      "source": [
        "# Reamostragem (Resampling)\n",
        "\n",
        "# Certifique-se que o índice é do tipo datetime\n",
        "df_temporal.index = pd.to_datetime(df_temporal.index)\n",
        "\n",
        "# Reamostrar dados diários para obter a soma mensal de vendas\n",
        "vendas_mensais = df_temporal['valor_venda'].resample('M').sum()\n",
        "# 'M' significa frequência mensal (Month End). Outras opções:\n",
        "# 'D' -> Dia\n",
        "# 'W' -> Semana\n",
        "# 'Q' -> Trimestre (Quarter End)\n",
        "# 'Y' -> Ano (Year End)\n",
        "\n",
        "# Reamostrar para obter a média trimestral\n",
        "media_trimestral = df_temporal['valor_venda'].resample('Q').mean()\n",
        "\n",
        "print(vendas_mensais)\n"
      ],
      "metadata": {
        "id": "mzaUKWiB0B1o"
      },
      "execution_count": null,
      "outputs": []
    },
    {
      "cell_type": "code",
      "source": [
        "# Janelas Móveis (Rolling Windows)\n",
        "\n",
        "# Calcular a média móvel de 7 dias para a coluna 'valor_venda'\n",
        "df_temporal['media_movel_7d'] = df_temporal['valor_venda'].rolling(window=7).mean()\n",
        "\n",
        "# Calcular a soma móvel dos últimos 30 dias\n",
        "df_temporal['soma_movel_30d'] = df_temporal['valor_venda'].rolling(window=30).sum()\n",
        "\n",
        "# O argumento min_periods define o número mínimo de observações na janela para ter um valor\n",
        "df_temporal['media_movel_7d_min_3'] = df_temporal['valor_venda'].rolling(window=7, min_periods=3).mean()\n"
      ],
      "metadata": {
        "id": "1FSzCB8e0JGh"
      },
      "execution_count": null,
      "outputs": []
    }
  ]
}